{
 "cells": [
  {
   "cell_type": "code",
   "execution_count": 15,
   "id": "14d489a4",
   "metadata": {},
   "outputs": [],
   "source": [
    "import numpy as np\n",
    "import pandas as pd\n",
    "from sklearn.model_selection import ParameterGrid\n",
    "from sklearn.metrics import (\n",
    "    precision_recall_fscore_support,\n",
    "    roc_auc_score, average_precision_score,\n",
    "    matthews_corrcoef, balanced_accuracy_score\n",
    ")\n",
    "import tensorflow as tf\n",
    "from tensorflow.keras.layers import (Input, Conv1D, BatchNormalization, ReLU,\n",
    "                                     MaxPooling1D, Dropout, Bidirectional, LSTM,\n",
    "                                     Dense, Multiply, Softmax, Lambda)\n",
    "from tensorflow.keras.models import Model\n",
    "import tensorflow.keras.backend as K\n",
    "from tensorflow.keras.callbacks import EarlyStopping, ReduceLROnPlateau\n",
    "from tensorflow.keras.utils import to_categorical"
   ]
  },
  {
   "cell_type": "code",
   "execution_count": 16,
   "id": "1b24a973",
   "metadata": {},
   "outputs": [
    {
     "ename": "KeyboardInterrupt",
     "evalue": "",
     "output_type": "error",
     "traceback": [
      "\u001b[31m---------------------------------------------------------------------------\u001b[39m",
      "\u001b[31mKeyboardInterrupt\u001b[39m                         Traceback (most recent call last)",
      "\u001b[36mCell\u001b[39m\u001b[36m \u001b[39m\u001b[32mIn[16]\u001b[39m\u001b[32m, line 1\u001b[39m\n\u001b[32m----> \u001b[39m\u001b[32m1\u001b[39m X_train = \u001b[43mpd\u001b[49m\u001b[43m.\u001b[49m\u001b[43mread_csv\u001b[49m\u001b[43m(\u001b[49m\u001b[33;43m\"\u001b[39;49m\u001b[33;43m../NN Datasets/x_train.csv\u001b[39;49m\u001b[33;43m\"\u001b[39;49m\u001b[43m)\u001b[49m\n\u001b[32m      2\u001b[39m y_train = pd.read_csv(\u001b[33m\"\u001b[39m\u001b[33m../NN Datasets/y_train.csv\u001b[39m\u001b[33m\"\u001b[39m)\n\u001b[32m      3\u001b[39m X_train = X_train.drop([ X_train.columns[\u001b[32m0\u001b[39m], \u001b[33m\"\u001b[39m\u001b[33mInit_Win_bytes_forward\u001b[39m\u001b[33m\"\u001b[39m ], axis=\u001b[32m1\u001b[39m)\n",
      "\u001b[36mFile \u001b[39m\u001b[32mc:\\Users\\dubst\\miniconda3\\Lib\\site-packages\\pandas\\io\\parsers\\readers.py:1026\u001b[39m, in \u001b[36mread_csv\u001b[39m\u001b[34m(filepath_or_buffer, sep, delimiter, header, names, index_col, usecols, dtype, engine, converters, true_values, false_values, skipinitialspace, skiprows, skipfooter, nrows, na_values, keep_default_na, na_filter, verbose, skip_blank_lines, parse_dates, infer_datetime_format, keep_date_col, date_parser, date_format, dayfirst, cache_dates, iterator, chunksize, compression, thousands, decimal, lineterminator, quotechar, quoting, doublequote, escapechar, comment, encoding, encoding_errors, dialect, on_bad_lines, delim_whitespace, low_memory, memory_map, float_precision, storage_options, dtype_backend)\u001b[39m\n\u001b[32m   1013\u001b[39m kwds_defaults = _refine_defaults_read(\n\u001b[32m   1014\u001b[39m     dialect,\n\u001b[32m   1015\u001b[39m     delimiter,\n\u001b[32m   (...)\u001b[39m\u001b[32m   1022\u001b[39m     dtype_backend=dtype_backend,\n\u001b[32m   1023\u001b[39m )\n\u001b[32m   1024\u001b[39m kwds.update(kwds_defaults)\n\u001b[32m-> \u001b[39m\u001b[32m1026\u001b[39m \u001b[38;5;28;01mreturn\u001b[39;00m \u001b[43m_read\u001b[49m\u001b[43m(\u001b[49m\u001b[43mfilepath_or_buffer\u001b[49m\u001b[43m,\u001b[49m\u001b[43m \u001b[49m\u001b[43mkwds\u001b[49m\u001b[43m)\u001b[49m\n",
      "\u001b[36mFile \u001b[39m\u001b[32mc:\\Users\\dubst\\miniconda3\\Lib\\site-packages\\pandas\\io\\parsers\\readers.py:626\u001b[39m, in \u001b[36m_read\u001b[39m\u001b[34m(filepath_or_buffer, kwds)\u001b[39m\n\u001b[32m    623\u001b[39m     \u001b[38;5;28;01mreturn\u001b[39;00m parser\n\u001b[32m    625\u001b[39m \u001b[38;5;28;01mwith\u001b[39;00m parser:\n\u001b[32m--> \u001b[39m\u001b[32m626\u001b[39m     \u001b[38;5;28;01mreturn\u001b[39;00m \u001b[43mparser\u001b[49m\u001b[43m.\u001b[49m\u001b[43mread\u001b[49m\u001b[43m(\u001b[49m\u001b[43mnrows\u001b[49m\u001b[43m)\u001b[49m\n",
      "\u001b[36mFile \u001b[39m\u001b[32mc:\\Users\\dubst\\miniconda3\\Lib\\site-packages\\pandas\\io\\parsers\\readers.py:1923\u001b[39m, in \u001b[36mTextFileReader.read\u001b[39m\u001b[34m(self, nrows)\u001b[39m\n\u001b[32m   1916\u001b[39m nrows = validate_integer(\u001b[33m\"\u001b[39m\u001b[33mnrows\u001b[39m\u001b[33m\"\u001b[39m, nrows)\n\u001b[32m   1917\u001b[39m \u001b[38;5;28;01mtry\u001b[39;00m:\n\u001b[32m   1918\u001b[39m     \u001b[38;5;66;03m# error: \"ParserBase\" has no attribute \"read\"\u001b[39;00m\n\u001b[32m   1919\u001b[39m     (\n\u001b[32m   1920\u001b[39m         index,\n\u001b[32m   1921\u001b[39m         columns,\n\u001b[32m   1922\u001b[39m         col_dict,\n\u001b[32m-> \u001b[39m\u001b[32m1923\u001b[39m     ) = \u001b[38;5;28;43mself\u001b[39;49m\u001b[43m.\u001b[49m\u001b[43m_engine\u001b[49m\u001b[43m.\u001b[49m\u001b[43mread\u001b[49m\u001b[43m(\u001b[49m\u001b[43m  \u001b[49m\u001b[38;5;66;43;03m# type: ignore[attr-defined]\u001b[39;49;00m\n\u001b[32m   1924\u001b[39m \u001b[43m        \u001b[49m\u001b[43mnrows\u001b[49m\n\u001b[32m   1925\u001b[39m \u001b[43m    \u001b[49m\u001b[43m)\u001b[49m\n\u001b[32m   1926\u001b[39m \u001b[38;5;28;01mexcept\u001b[39;00m \u001b[38;5;167;01mException\u001b[39;00m:\n\u001b[32m   1927\u001b[39m     \u001b[38;5;28mself\u001b[39m.close()\n",
      "\u001b[36mFile \u001b[39m\u001b[32mc:\\Users\\dubst\\miniconda3\\Lib\\site-packages\\pandas\\io\\parsers\\c_parser_wrapper.py:234\u001b[39m, in \u001b[36mCParserWrapper.read\u001b[39m\u001b[34m(self, nrows)\u001b[39m\n\u001b[32m    232\u001b[39m \u001b[38;5;28;01mtry\u001b[39;00m:\n\u001b[32m    233\u001b[39m     \u001b[38;5;28;01mif\u001b[39;00m \u001b[38;5;28mself\u001b[39m.low_memory:\n\u001b[32m--> \u001b[39m\u001b[32m234\u001b[39m         chunks = \u001b[38;5;28;43mself\u001b[39;49m\u001b[43m.\u001b[49m\u001b[43m_reader\u001b[49m\u001b[43m.\u001b[49m\u001b[43mread_low_memory\u001b[49m\u001b[43m(\u001b[49m\u001b[43mnrows\u001b[49m\u001b[43m)\u001b[49m\n\u001b[32m    235\u001b[39m         \u001b[38;5;66;03m# destructive to chunks\u001b[39;00m\n\u001b[32m    236\u001b[39m         data = _concatenate_chunks(chunks)\n",
      "\u001b[36mFile \u001b[39m\u001b[32mparsers.pyx:838\u001b[39m, in \u001b[36mpandas._libs.parsers.TextReader.read_low_memory\u001b[39m\u001b[34m()\u001b[39m\n",
      "\u001b[36mFile \u001b[39m\u001b[32mparsers.pyx:905\u001b[39m, in \u001b[36mpandas._libs.parsers.TextReader._read_rows\u001b[39m\u001b[34m()\u001b[39m\n",
      "\u001b[36mFile \u001b[39m\u001b[32mparsers.pyx:874\u001b[39m, in \u001b[36mpandas._libs.parsers.TextReader._tokenize_rows\u001b[39m\u001b[34m()\u001b[39m\n",
      "\u001b[36mFile \u001b[39m\u001b[32mparsers.pyx:891\u001b[39m, in \u001b[36mpandas._libs.parsers.TextReader._check_tokenize_status\u001b[39m\u001b[34m()\u001b[39m\n",
      "\u001b[36mFile \u001b[39m\u001b[32mparsers.pyx:2053\u001b[39m, in \u001b[36mpandas._libs.parsers.raise_parser_error\u001b[39m\u001b[34m()\u001b[39m\n",
      "\u001b[36mFile \u001b[39m\u001b[32m<frozen codecs>:331\u001b[39m, in \u001b[36mgetstate\u001b[39m\u001b[34m(self)\u001b[39m\n",
      "\u001b[31mKeyboardInterrupt\u001b[39m: "
     ]
    }
   ],
   "source": [
    "X_train = pd.read_csv(\"../NN Datasets/x_train.csv\")\n",
    "y_train = pd.read_csv(\"../NN Datasets/y_train.csv\")\n",
    "X_train = X_train.drop([ X_train.columns[0], \"Init_Win_bytes_forward\" ], axis=1)\n",
    "y_train = y_train.drop(y_train.columns[0], axis=1)\n",
    "\n",
    "X_val = pd.read_csv(\"..//NN Datasets//x_val.csv\")\n",
    "y_val = pd.read_csv(\"..//NN Datasets//y_val.csv\")\n",
    "X_val = X_val.drop([X_val.columns[0], 'Init_Win_bytes_forward'] , axis=1)\n",
    "y_val = y_val.drop(y_val.columns[0], axis=1)\n",
    "\n",
    "X_test = pd.read_csv(\"../NN Datasets/x_test.csv\")\n",
    "y_test = pd.read_csv(\"../NN Datasets/y_test.csv\")\n",
    "X_test = X_test.drop([ X_test.columns[0], \"Init_Win_bytes_forward\" ], axis=1)\n",
    "y_test = y_test.drop(y_test.columns[0], axis=1)"
   ]
  },
  {
   "cell_type": "code",
   "execution_count": null,
   "id": "643447af",
   "metadata": {},
   "outputs": [],
   "source": [
    "window_size = 20\n",
    "num_features = 34\n",
    "num_classes = 7"
   ]
  },
  {
   "cell_type": "code",
   "execution_count": null,
   "id": "431f4e27",
   "metadata": {},
   "outputs": [
    {
     "data": {
      "text/plain": [
       "array([0, 1, 2, 3, 5, 4, 6])"
      ]
     },
     "execution_count": 9,
     "metadata": {},
     "output_type": "execute_result"
    }
   ],
   "source": [
    "y_val['label_code'].unique()"
   ]
  },
  {
   "cell_type": "code",
   "execution_count": null,
   "id": "51a8a6a8",
   "metadata": {},
   "outputs": [],
   "source": [
    "def prepare_windowed_data(X, y, window_size, num_classes):\n",
    "    # 1) Конвертуємо в numpy\n",
    "    X_arr = X.values if hasattr(X, 'values') else np.asarray(X)\n",
    "    y_arr = y.values.squeeze() if hasattr(y, 'values') else np.asarray(y).squeeze()\n",
    "    \n",
    "    # 2) Визначаємо, скільки повних вікон вміститься\n",
    "    n_rows, n_features = X_arr.shape\n",
    "    n_windows = n_rows // window_size\n",
    "    n_use = n_windows * window_size\n",
    "    if n_use != n_rows:\n",
    "        print(f\"– Обрізаю {n_rows - n_use} рядків (залишаю {n_use} для {n_windows} вікон)\")\n",
    "    \n",
    "    # 3) Обрізка\n",
    "    X_trim = X_arr[:n_use]\n",
    "    y_trim = y_arr[:n_use]\n",
    "    \n",
    "    # 4) reshape X → (n_windows, window_size, n_features)\n",
    "    X_windows = X_trim.reshape(n_windows, window_size, n_features)\n",
    "    \n",
    "    # 5) reshape y → (n_windows, window_size) й беремо останню мітку вікна\n",
    "    y_mat = y_trim.reshape(n_windows, window_size)\n",
    "    y_last = y_mat[:, -1]\n",
    "    \n",
    "    # 6) one-hot\n",
    "    y_windows = to_categorical(y_last, num_classes)\n",
    "    \n",
    "    return X_windows, y_windows"
   ]
  },
  {
   "cell_type": "code",
   "execution_count": null,
   "id": "56c07ff6",
   "metadata": {},
   "outputs": [
    {
     "name": "stdout",
     "output_type": "stream",
     "text": [
      "– Обрізаю 8 рядків (залишаю 11878320 для 593916 вікон)\n",
      "– Обрізаю 5 рядків (залишаю 287580 для 14379 вікон)\n",
      "– Обрізаю 18 рядків (залишаю 422900 для 21145 вікон)\n"
     ]
    }
   ],
   "source": [
    "window_size = 20\n",
    "num_classes = 7\n",
    "\n",
    "X_train, y_train = prepare_windowed_data(X_train, y_train, window_size, num_classes)\n",
    "X_val,   y_val   = prepare_windowed_data(X_val,   y_val,   window_size, num_classes)\n",
    "X_test,  y_test  = prepare_windowed_data(X_test,  y_test,  window_size, num_classes)"
   ]
  },
  {
   "cell_type": "code",
   "execution_count": null,
   "id": "68002f8d",
   "metadata": {},
   "outputs": [
    {
     "name": "stdout",
     "output_type": "stream",
     "text": [
      "X_train: (593916, 20, 34)\n",
      "X_val: (14379, 20, 34)\n",
      "X_test: (21145, 20, 34)\n"
     ]
    }
   ],
   "source": [
    "print(f\"X_train: {X_train.shape}\")\n",
    "print(f\"X_val: {X_val.shape}\")\n",
    "print(f\"X_test: {X_test.shape}\")"
   ]
  },
  {
   "cell_type": "code",
   "execution_count": null,
   "id": "abbd3f05",
   "metadata": {},
   "outputs": [],
   "source": [
    "def create_model(\n",
    "    filters=64,\n",
    "    kernel_size=3,\n",
    "    pool_size=2,\n",
    "    lstm_units=128,\n",
    "    lstm_layers=1,\n",
    "    dropout_rate=0.3,\n",
    "    recurrent_dropout=0.1,\n",
    "    activation='relu',\n",
    "    kernel_initializer='he_uniform',\n",
    "    optimizer='adam',\n",
    "    optimizer__learning_rate=1e-3\n",
    "):\n",
    "    inp = Input(shape=(window_size, num_features))\n",
    "    x = inp\n",
    "    # 1D-CNN block\n",
    "    x = Conv1D(filters, kernel_size, padding='same',\n",
    "               kernel_initializer=kernel_initializer)(x)\n",
    "    x = BatchNormalization()(x)\n",
    "    x = ReLU()(x)\n",
    "    x = Conv1D(filters, kernel_size+2, padding='same',\n",
    "               kernel_initializer=kernel_initializer)(x)\n",
    "    x = BatchNormalization()(x)\n",
    "    x = ReLU()(x)\n",
    "    x = MaxPooling1D(pool_size)(x)\n",
    "    x = Dropout(dropout_rate)(x)\n",
    "\n",
    "    # BiLSTM block\n",
    "    for _ in range(lstm_layers):\n",
    "        x = Bidirectional(LSTM(lstm_units,\n",
    "                               return_sequences=True,\n",
    "                               dropout=dropout_rate,\n",
    "                               recurrent_dropout=recurrent_dropout))(x)\n",
    "    x = Dropout(dropout_rate)(x)\n",
    "\n",
    "    # Attention mechanism\n",
    "    attn_scores = Dense(1, activation='tanh')(x)\n",
    "    attn_scores = Softmax(axis=1)(attn_scores)\n",
    "    context = Multiply()([x, attn_scores])\n",
    "    context = Lambda(lambda z: K.sum(z, axis=1))(context)\n",
    "    # Classification head\n",
    "    x = Dense(128, activation=activation,\n",
    "              kernel_initializer=kernel_initializer)(context)\n",
    "    x = Dropout(dropout_rate)(x)\n",
    "    out = Dense(num_classes, activation='softmax')(x)\n",
    "\n",
    "    model = Model(inp, out)\n",
    "\n",
    "    # Підбираємо оптимізатор\n",
    "    opt = (optimizer(learning_rate=optimizer__learning_rate)\n",
    "           if isinstance(optimizer, type)\n",
    "           else optimizer)\n",
    "\n",
    "    model.compile(\n",
    "        optimizer=opt,\n",
    "        loss='categorical_crossentropy',\n",
    "        metrics=['accuracy']\n",
    "    )\n",
    "    return model"
   ]
  },
  {
   "cell_type": "code",
   "execution_count": null,
   "id": "018fcddb",
   "metadata": {},
   "outputs": [],
   "source": [
    "param_grid = {\n",
    "    'filters':      [32, 64, 128],\n",
    "    'kernel_size':  [3, 5, 7],\n",
    "    'pool_size':    [2, 3],\n",
    "    'lstm_units':   [64, 128, 256],\n",
    "    'lstm_layers':  [1, 2],\n",
    "    'dropout_rate': [0.2, 0.3, 0.5],\n",
    "    'recurrent_dropout': [0.1, 0.2],\n",
    "    'activation':   ['relu', 'selu'],\n",
    "    'kernel_initializer': ['he_uniform', 'glorot_uniform'],\n",
    "    'optimizer':           [tf.keras.optimizers.Adam, tf.keras.optimizers.RMSprop],\n",
    "    'optimizer__learning_rate': [1e-2, 1e-3, 1e-4],\n",
    "    'batch_size':          [64, 128, 256],\n",
    "    'epochs':              [10, 20, 50]\n",
    "}"
   ]
  },
  {
   "cell_type": "code",
   "execution_count": null,
   "id": "bc969e4e",
   "metadata": {},
   "outputs": [],
   "source": [
    "callbacks = [\n",
    "    EarlyStopping(monitor='val_loss', patience=10, restore_best_weights=True),\n",
    "    ReduceLROnPlateau(monitor='val_loss', factor=0.5, patience=5, min_lr=1e-6)\n",
    "]"
   ]
  },
  {
   "cell_type": "code",
   "execution_count": null,
   "id": "957a2f84",
   "metadata": {},
   "outputs": [],
   "source": [
    "results = []\n",
    "\n",
    "for params in ParameterGrid(param_grid):\n",
    "    print('Training with params:', params)\n",
    "\n",
    "    model_kwargs = {k:v for k,v in params.items()\n",
    "                    if k not in ('batch_size','epochs')}\n",
    "                                 \n",
    "    model = create_model(**model_kwargs)\n",
    "    # Навчання на train з валідацією на val\n",
    "    history = model.fit(\n",
    "        X_train, y_train,\n",
    "        validation_data=(X_val, y_val),\n",
    "        batch_size=params['batch_size'],\n",
    "        epochs=params['epochs'],\n",
    "        verbose=1,\n",
    "        callbacks=callbacks\n",
    "    )\n",
    "\n",
    "    y_test_prob = model.predict(X_test)\n",
    "    y_test_pred = np.argmax(y_test_prob, axis=1)\n",
    "\n",
    "    test_acc     = np.mean(y_test_pred == y_test)\n",
    "    test_bal_acc = balanced_accuracy_score(y_test, y_test_pred)\n",
    "    test_mcc     = matthews_corrcoef(y_test, y_test_pred)\n",
    "    test_roc_auc = roc_auc_score(y_test, y_test_prob,\n",
    "                                 multi_class='ovo', average='macro')\n",
    "    test_avg_prec= average_precision_score(y_test, y_test_prob, average='macro')\n",
    "    \n",
    "    # Збереження результатів\n",
    "    row = params.copy()\n",
    "    row.update({\n",
    "        'test_accuracy': test_acc,\n",
    "        'test_balanced_accuracy': test_bal_acc,\n",
    "        'test_mcc': test_mcc,\n",
    "        'test_roc_auc': test_roc_auc,\n",
    "        'test_average_precision': test_avg_prec\n",
    "    })\n",
    "    results.append(row)"
   ]
  },
  {
   "cell_type": "code",
   "execution_count": null,
   "id": "44ca970a",
   "metadata": {},
   "outputs": [],
   "source": [
    "df_results = pd.DataFrame(results)\n",
    "print(df_results)\n",
    "\n",
    "df_results.to_csv('grid_search_val_test_metrics.csv', index=False)"
   ]
  }
 ],
 "metadata": {
  "kernelspec": {
   "display_name": "base",
   "language": "python",
   "name": "python3"
  },
  "language_info": {
   "codemirror_mode": {
    "name": "ipython",
    "version": 3
   },
   "file_extension": ".py",
   "mimetype": "text/x-python",
   "name": "python",
   "nbconvert_exporter": "python",
   "pygments_lexer": "ipython3",
   "version": "3.12.9"
  }
 },
 "nbformat": 4,
 "nbformat_minor": 5
}
