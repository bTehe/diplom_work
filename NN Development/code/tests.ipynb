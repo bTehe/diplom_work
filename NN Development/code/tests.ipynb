{
 "cells": [
  {
   "cell_type": "code",
   "execution_count": null,
   "id": "7aa9b25c",
   "metadata": {},
   "outputs": [
    {
     "name": "stderr",
     "output_type": "stream",
     "text": [
      "c:\\Users\\dubst\\Desktop\\ООП\\4 курс\\Дипломка\\code\\data_pipeline.py:235: FutureWarning: Setting an item of incompatible dtype is deprecated and will raise in a future error of pandas. Value '[0.69314718 0.69314718 0.69314718 ... 0.         0.         0.        ]' has dtype incompatible with int64, please explicitly cast to a compatible dtype first.\n",
      "  df_out.loc[:, present] = transformer.fit_transform(data)\n",
      "c:\\Users\\dubst\\Desktop\\ООП\\4 курс\\Дипломка\\code\\data_pipeline.py:235: FutureWarning: Setting an item of incompatible dtype is deprecated and will raise in a future error of pandas. Value '[0.         0.         0.         ... 0.69314718 0.         0.        ]' has dtype incompatible with int64, please explicitly cast to a compatible dtype first.\n",
      "  df_out.loc[:, present] = transformer.fit_transform(data)\n",
      "c:\\Users\\dubst\\Desktop\\ООП\\4 курс\\Дипломка\\code\\data_pipeline.py:235: FutureWarning: Setting an item of incompatible dtype is deprecated and will raise in a future error of pandas. Value '[6.88448665 6.88448665 0.         ... 3.4657359  4.8598124  4.73619845]' has dtype incompatible with int64, please explicitly cast to a compatible dtype first.\n",
      "  df_out.loc[:, present] = transformer.fit_transform(data)\n",
      "c:\\Users\\dubst\\Desktop\\ООП\\4 курс\\Дипломка\\code\\data_pipeline.py:235: FutureWarning: Setting an item of incompatible dtype is deprecated and will raise in a future error of pandas. Value '[0.         0.         0.         ... 0.         3.49650756 3.87120101]' has dtype incompatible with int64, please explicitly cast to a compatible dtype first.\n",
      "  df_out.loc[:, present] = transformer.fit_transform(data)\n",
      "c:\\Users\\dubst\\Desktop\\ООП\\4 курс\\Дипломка\\code\\data_pipeline.py:235: FutureWarning: Setting an item of incompatible dtype is deprecated and will raise in a future error of pandas. Value '[ 2.21112724  2.21112724 -0.51635627 ... -0.51635627  0.20337897\n",
      "  0.20337897]' has dtype incompatible with int64, please explicitly cast to a compatible dtype first.\n",
      "  df_out.loc[:, present] = transformer.fit_transform(data)\n",
      "c:\\Users\\dubst\\Desktop\\ООП\\4 курс\\Дипломка\\code\\data_pipeline.py:235: FutureWarning: Setting an item of incompatible dtype is deprecated and will raise in a future error of pandas. Value '[ 2.25674483  2.25674483 -5.19933758 ... -0.15239059  0.81614989\n",
      "  0.59244364]' has dtype incompatible with int64, please explicitly cast to a compatible dtype first.\n",
      "  df_out.loc[:, present] = transformer.fit_transform(data)\n",
      "c:\\Users\\dubst\\Desktop\\ООП\\4 курс\\Дипломка\\code\\data_pipeline.py:235: FutureWarning: Setting an item of incompatible dtype is deprecated and will raise in a future error of pandas. Value '[ 2.21112724  2.21112724 -0.51635627 ... -0.51635627  0.20337897\n",
      "  0.20337897]' has dtype incompatible with int64, please explicitly cast to a compatible dtype first.\n",
      "  df_out.loc[:, present] = transformer.fit_transform(data)\n",
      "c:\\Users\\dubst\\Desktop\\ООП\\4 курс\\Дипломка\\code\\data_pipeline.py:235: FutureWarning: Setting an item of incompatible dtype is deprecated and will raise in a future error of pandas. Value '[ 2.25674483  2.25674483 -5.19933758 ... -0.15239059  0.81614989\n",
      "  0.59244364]' has dtype incompatible with int64, please explicitly cast to a compatible dtype first.\n",
      "  df_out.loc[:, present] = transformer.fit_transform(data)\n",
      "c:\\Users\\dubst\\Desktop\\ООП\\4 курс\\Дипломка\\code\\data_pipeline.py:235: FutureWarning: Setting an item of incompatible dtype is deprecated and will raise in a future error of pandas. Value '[-0.05555556 -0.05555556 -0.05555556 ... -0.05555556  0.83333333\n",
      "  1.25      ]' has dtype incompatible with int64, please explicitly cast to a compatible dtype first.\n",
      "  df_out.loc[:, present] = transformer.fit_transform(data)\n"
     ]
    },
    {
     "name": "stdout",
     "output_type": "stream",
     "text": [
      "SMOTE will use k_neighbors=4 (min class count = 5)\n"
     ]
    }
   ],
   "source": [
    "import os\n",
    "import pandas as pd\n",
    "import numpy as np\n",
    "import pytest\n",
    "from pathlib import Path\n",
    "\n",
    "from data_pipeline import (\n",
    "    load_and_concat_csvs,\n",
    "    add_datetime_index,\n",
    "    engineer_time_features,\n",
    "    clean_data,\n",
    "    apply_transformers,\n",
    "    bin_features,\n",
    "    map_labels,\n",
    "    add_time_feature,\n",
    "    drop_and_select,\n",
    "    split_and_balance,\n",
    ")\n",
    "from sklearn.preprocessing import FunctionTransformer"
   ]
  },
  {
   "cell_type": "code",
   "execution_count": null,
   "id": "ead45077",
   "metadata": {},
   "outputs": [],
   "source": [
    "@pytest.fixture\n",
    "def tmp_csv_dir(tmp_path):\n",
    "    \"\"\"Створює тимчасову теку з двома CSV для load_and_concat_csvs.\"\"\"\n",
    "    d = tmp_path / \"data\"\n",
    "    d.mkdir()\n",
    "    df1 = pd.DataFrame({\n",
    "        'A': [1, 2],\n",
    "        'Label': ['BENIGN', 'DDoS']\n",
    "    })\n",
    "    df1.to_csv(d / \"Monday.csv\", index=False)\n",
    "    df2 = pd.DataFrame({\n",
    "        'A': [3, 4],\n",
    "        'Label': ['Bot', 'PortScan']\n",
    "    })\n",
    "    df2.to_csv(d / \"Tuesday.csv\", index=False)\n",
    "    return d"
   ]
  },
  {
   "cell_type": "code",
   "execution_count": null,
   "id": "9b6f1d87",
   "metadata": {},
   "outputs": [],
   "source": [
    "def test_load_and_concat_csvs(tmp_csv_dir):\n",
    "    df = load_and_concat_csvs(tmp_csv_dir)\n",
    "    assert 'Day' in df.columns\n",
    "    assert df.shape[0] == 4\n",
    "    assert set(df['Day']) == {'Monday', 'Tuesday'}"
   ]
  },
  {
   "cell_type": "code",
   "execution_count": null,
   "id": "08806fbd",
   "metadata": {},
   "outputs": [],
   "source": [
    "def test_load_and_concat_csvs(tmp_csv_dir):\n",
    "    df = load_and_concat_csvs(tmp_csv_dir)\n",
    "    assert 'Day' in df.columns\n",
    "    assert df.shape[0] == 4\n",
    "    assert set(df['Day']) == {'Monday', 'Tuesday'}"
   ]
  },
  {
   "cell_type": "code",
   "execution_count": null,
   "id": "f038b286",
   "metadata": {},
   "outputs": [],
   "source": [
    "def test_add_datetime_index(tmp_csv_dir):\n",
    "    df = load_and_concat_csvs(tmp_csv_dir)\n",
    "    date_map = {'Monday':'2023-01-01 00:00:00', 'Tuesday':'2023-01-02 00:00:00'}\n",
    "    df2 = add_datetime_index(df, date_map)\n",
    "    assert 'Day' not in df2.columns\n",
    "    assert pd.api.types.is_datetime64_any_dtype(df2.index)\n",
    "    expected = pd.to_datetime(list(date_map.values()))\n",
    "    assert set(df2.index.unique()) == set(expected)"
   ]
  },
  {
   "cell_type": "code",
   "execution_count": null,
   "id": "7a21572e",
   "metadata": {},
   "outputs": [],
   "source": [
    "def test_engineer_time_features():\n",
    "    idx = pd.to_datetime(['2021-01-01 05:00', '2021-01-02 15:30'])\n",
    "    df = pd.DataFrame(index=idx)\n",
    "    out = engineer_time_features(df)\n",
    "    assert 'dow' in out.columns and 'hour' in out.columns\n",
    "    # 2021-01-01 — п’ятниця (4), 05:00\n",
    "    assert out.loc[idx[0], 'dow'] == 4\n",
    "    assert out.loc[idx[0], 'hour'] == 5\n",
    "    # 2021-01-02 — субота (5), 15:30\n",
    "    assert out.loc[idx[1], 'dow'] == 5\n",
    "    assert out.loc[idx[1], 'hour'] == 15"
   ]
  },
  {
   "cell_type": "code",
   "execution_count": null,
   "id": "7b3415f6",
   "metadata": {},
   "outputs": [],
   "source": [
    "def test_clean_data():\n",
    "    df = pd.DataFrame({\n",
    "        'num': [1, -5, np.inf, 2],\n",
    "        'Init_Win_bytes_forward': [0, 0, 0, 0],\n",
    "        'Label': ['a','b','c','d']\n",
    "    })\n",
    "    out = clean_data(df)\n",
    "    # негативні та нескінченності замінено, пустих рядків не лишилось\n",
    "    assert (out['num'] >= 0).all()\n",
    "    assert not out.isna().any().any()"
   ]
  },
  {
   "cell_type": "code",
   "execution_count": null,
   "id": "c8e6408d",
   "metadata": {},
   "outputs": [],
   "source": [
    "def test_apply_transformers():\n",
    "    df = pd.DataFrame({'x': [0, 1, 2, 3]})\n",
    "    transformers = {'log1p': FunctionTransformer(np.log1p, validate=False)}\n",
    "    out = apply_transformers(df, {'log1p': ['x']}, transformers)\n",
    "    assert np.allclose(out['x'], np.log1p(df['x']))"
   ]
  },
  {
   "cell_type": "code",
   "execution_count": null,
   "id": "ab8226d9",
   "metadata": {},
   "outputs": [],
   "source": [
    "def test_bin_features():\n",
    "    df = pd.DataFrame({'v': [10, 20, 30, 40, 50]})\n",
    "    out = bin_features(df, ['v'], n_bins=5)\n",
    "    assert 'v_bin' in out.columns\n",
    "    assert set(out['v_bin']) == set(range(5))"
   ]
  },
  {
   "cell_type": "code",
   "execution_count": null,
   "id": "3d91afeb",
   "metadata": {},
   "outputs": [],
   "source": [
    "def test_map_labels():\n",
    "    df = pd.DataFrame({'Label': ['BENIGN', 'DDoS', 'Bot']})\n",
    "    cats = {\n",
    "        'BENIGN': ['BENIGN'],\n",
    "        'DoS': ['DDoS'],\n",
    "        'Bot_Infiltration': ['Bot']\n",
    "    }\n",
    "    out = map_labels(df, cats)\n",
    "    assert 'Category' in out.columns and 'label_code' in out.columns\n",
    "    assert out.loc[0, 'Category'] == 'BENIGN'\n",
    "    # DoS має індекс 1 у словнику\n",
    "    assert out.loc[1, 'label_code'] == 1"
   ]
  },
  {
   "cell_type": "code",
   "execution_count": null,
   "id": "1d3603c5",
   "metadata": {},
   "outputs": [],
   "source": [
    "def test_add_time_feature():\n",
    "    df = pd.DataFrame({'dow': [0, 2], 'hour': [5, 18]})\n",
    "    out = add_time_feature(df)\n",
    "    assert out.loc[0, 'time'] == 0*24 + 5\n",
    "    assert out.loc[1, 'time'] == 2*24 + 18"
   ]
  },
  {
   "cell_type": "code",
   "execution_count": null,
   "id": "259c8241",
   "metadata": {},
   "outputs": [],
   "source": [
    "def test_drop_and_select():\n",
    "    df = pd.DataFrame({\n",
    "        'A': [1], 'B': [2], 'label_code': [0], 'composite': [10]\n",
    "    })\n",
    "    # видаляємо B, залишаємо A, та перевіряємо, що label_code і composite на місці\n",
    "    out = drop_and_select(df, ['B'], {}, ['A'], [])\n",
    "    assert 'A' in out.columns\n",
    "    assert 'label_code' in out.columns\n",
    "    assert 'composite' in out.columns\n",
    "    assert 'B' not in out.columns"
   ]
  },
  {
   "cell_type": "code",
   "execution_count": null,
   "id": "eb781057",
   "metadata": {},
   "outputs": [],
   "source": [
    "def test_split_and_balance():\n",
    "    # Мінімальний приклад з двома класами по 2 зразки\n",
    "    df = pd.DataFrame({\n",
    "        'f': [1,2,3,4],\n",
    "        'label_code': [0,0,1,1],\n",
    "        'composite': [0,1,168,169]\n",
    "    })\n",
    "    res = split_and_balance(df, test_size=0.5, val_split=0.5,\n",
    "                            random_state=0, smote_state=0)\n",
    "    # Має бути 6 ключів\n",
    "    assert set(res.keys()) == {\n",
    "        'X_train_bal','y_train_bal','X_val','y_val','X_test','y_test'\n",
    "    }\n",
    "    # Загальна кількість зразків після розбиття має дорівнювати початковій\n",
    "    total = (res['X_train_bal'].shape[0] +\n",
    "             res['X_val'].shape[0] +\n",
    "             res['X_test'].shape[0])\n",
    "    assert total == df.shape[0]"
   ]
  },
  {
   "cell_type": "code",
   "execution_count": null,
   "id": "21c68cdd",
   "metadata": {},
   "outputs": [],
   "source": [
    "def test_export_datasets(tmp_path):\n",
    "    df1 = pd.DataFrame({'x':[1,2]})\n",
    "    df2 = pd.DataFrame({'y':[3,4]})\n",
    "    out = tmp_path / \"out\"\n",
    "    # export створює теку автоматично\n",
    "    export_datasets({'a': df1, 'b': df2}, str(out))\n",
    "    assert (out / \"a.csv\").exists()\n",
    "    assert (out / \"b.csv\").exists()"
   ]
  }
 ],
 "metadata": {
  "kernelspec": {
   "display_name": "base",
   "language": "python",
   "name": "python3"
  },
  "language_info": {
   "codemirror_mode": {
    "name": "ipython",
    "version": 3
   },
   "file_extension": ".py",
   "mimetype": "text/x-python",
   "name": "python",
   "nbconvert_exporter": "python",
   "pygments_lexer": "ipython3",
   "version": "3.12.9"
  }
 },
 "nbformat": 4,
 "nbformat_minor": 5
}
